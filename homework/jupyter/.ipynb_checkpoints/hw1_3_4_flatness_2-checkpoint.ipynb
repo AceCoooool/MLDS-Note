{
 "cells": [
  {
   "cell_type": "markdown",
   "metadata": {},
   "source": [
    "# Flatness v.s. Generalization (Part 2)\n",
    "\n",
    "## 采用的模型\n",
    "\n",
    "| Model                                                        | Parameter |\n",
    "| deep model：  `Conv(16, (3x3))->Pool(2)->Conv(32, (3x3))->Conv(64, (3x3))->Conv(64, (3x3))->Pool(2)->Conv(38, (3x3))->Conv(32, (3x3))->Conv(10, (1x1))->Pool(8)` |   93990   |\n",
    "\n",
    "> 注：上述除最后一个卷积之外，每个卷积之后 加BatchNormalization和ReLU激活函数\n",
    ">\n",
    "> 训练采用的参数：`optimizer=Adam(lr=1e-3， amsgrad=True), epoch=100 `"
   ]
  },
  {
   "cell_type": "code",
   "execution_count": 1,
   "metadata": {},
   "outputs": [],
   "source": [
    "import sys\n",
    "sys.path.insert(0, '..')\n",
    "import os\n",
    "import torch\n",
    "from argparse import Namespace\n",
    "from torch import optim\n",
    "from model import cross_entropy_loss\n",
    "from model import deep_cifar\n",
    "from dataset import cifar_train_loader, cifar_validate_loader\n",
    "from utils import eval_sensitivity, Logger\n",
    "from solver import HW1Solver"
   ]
  },
  {
   "cell_type": "code",
   "execution_count": 2,
   "metadata": {},
   "outputs": [],
   "source": [
    "import matplotlib.pyplot as plt\n",
    "%matplotlib inline"
   ]
  },
  {
   "cell_type": "code",
   "execution_count": 3,
   "metadata": {},
   "outputs": [],
   "source": [
    "# 参数设置\n",
    "root = os.path.join(os.path.expanduser('~'), 'data')\n",
    "config = {'batch_size': 16, 'epochs': 100, 'resume': '', 'verbosity': 1, 'use_cuda': True,\n",
    "          'lr': 1e-3, 'save_dir': '../pretrained/1_3_4', 'save_freq': 100, 'save_grad': False,\n",
    "          'data_dir': root, 'dataset': 'cifar', 'valid': False, 'val_step': 1,\n",
    "          'visdom': False, 'visdom_iter': True, 'visdom_fit': False}\n",
    "config = Namespace(**config)\n",
    "batch_list = [2 ** i for i in range(4, 11)]"
   ]
  },
  {
   "cell_type": "code",
   "execution_count": null,
   "metadata": {},
   "outputs": [],
   "source": [
    "# 训练阶段:  这部分时间可能达到几个小时; \n",
    "# ---友情提示: 你也可以直接使用提供的已训练好的模型, 那么你就别运行这部分了 ---\n",
    "for batch_size in batch_list:\n",
    "    config.batch_size = batch_size\n",
    "    train_loader = cifar_train_loader(root, config.batch_size)\n",
    "    model = deep_cifar('cifar_{}'.format(batch_size))\n",
    "    optimizer = optim.Adam(model.parameters(), config.lr, amsgrad=True)\n",
    "    solver = HW1Solver(model, optimizer, cross_entropy_loss, [], train_loader, None, config)\n",
    "    solver.train()"
   ]
  },
  {
   "cell_type": "code",
   "execution_count": null,
   "metadata": {},
   "outputs": [],
   "source": [
    "# 计算sensitive --- 可能需要耗费几分钟\n",
    "for b in batch_list:\n",
    "    info = {'batch': b}\n",
    "    checkpoints = torch.load('{}/cifar_{}_epoch{}.pth.tar'.format(config.save_dir, b, config.epochs))\n",
    "    logger = checkpoints['logger']\n",
    "    train_loss = [entry['loss'] for _, entry in logger.entries.items()][-1]\n",
    "    net.load_state_dict(checkpoints['state_dict'])\n",
    "    loss, sensitivity = eval_sensitivity(net, dataloader)\n",
    "    info.update({'train_loss': train_loss, 'val_loss': loss, 'sensitivity': sensitivity})\n",
    "    print(info)\n",
    "    log.add_entry(info)\n",
    "torch.save(log, save_dir+'/sensitivity.pth.tar')"
   ]
  },
  {
   "cell_type": "code",
   "execution_count": null,
   "metadata": {},
   "outputs": [],
   "source": [
    "# 可视化结果\n"
   ]
  }
 ],
 "metadata": {
  "kernelspec": {
   "display_name": "Python 3",
   "language": "python",
   "name": "python3"
  },
  "language_info": {
   "codemirror_mode": {
    "name": "ipython",
    "version": 3
   },
   "file_extension": ".py",
   "mimetype": "text/x-python",
   "name": "python",
   "nbconvert_exporter": "python",
   "pygments_lexer": "ipython3",
   "version": "3.6.5"
  }
 },
 "nbformat": 4,
 "nbformat_minor": 2
}

{
 "cells": [
  {
   "cell_type": "markdown",
   "metadata": {},
   "source": [
    "# What Happened When Gradient is Almost Zero\n",
    "\n",
    "## 采用的模型\n",
    "\n",
    "| Model                                      | Parameter |\n",
    "| deep model：     `1->5->10->10->10->10->10->5->1` |    571    |\n",
    "\n",
    "> 注：上述模型采用Tanh作为激活函数\n",
    ">\n",
    "> 拟合函数1：$sin(5\\pi x)/5\\pi x$\n",
    ">\n",
    "> 训练采用的参数：`batch_size=250, optimizer=Adam(lr=1e-3), epoch=4000 `\n",
    ">\n",
    "> 在训练到2000轮的时候，换成以gradient norm为损失函数继续训练"
   ]
  },
  {
   "cell_type": "code",
   "execution_count": 1,
   "metadata": {},
   "outputs": [],
   "source": [
    "import sys\n",
    "sys.path.insert(0, '..')\n",
    "import torch\n",
    "from argparse import Namespace\n",
    "from torch import optim, autograd\n",
    "from model import deep_simulate\n",
    "from model import mse_loss\n",
    "from dataset import simulate_dataloader\n",
    "from utils import ensure_dir, minimal_ratio, eval_gradnorm, Logger"
   ]
  },
  {
   "cell_type": "code",
   "execution_count": 2,
   "metadata": {},
   "outputs": [],
   "source": [
    "import matplotlib.pyplot as plt\n",
    "%matplotlib inline"
   ]
  },
  {
   "cell_type": "code",
   "execution_count": 3,
   "metadata": {},
   "outputs": [],
   "source": [
    "# 参数设置\n",
    "config = {'batch_size': 250, 'epochs': 4000, 'change_epoch': 2000, 'use_cuda': True,\n",
    "          'lr': 1e-3, 'save_dir': '../pretrained/1_2_3', 'total_num': 100}\n",
    "config = Namespace(**config)"
   ]
  },
  {
   "cell_type": "code",
   "execution_count": 4,
   "metadata": {},
   "outputs": [],
   "source": [
    "ensure_dir(config.save_dir)\n",
    "logger = Logger()\n",
    "device = torch.device('cuda:0' if torch.cuda.is_available() and config.use_cuda else 'cpu')\n",
    "train_loader = simulate_dataloader('sin', config.batch_size)\n",
    "criterion = mse_loss"
   ]
  },
  {
   "cell_type": "code",
   "execution_count": null,
   "metadata": {},
   "outputs": [],
   "source": [
    "# 训练阶段 --- 可能需要花费几小时, 请耐心等待～\n",
    "# ---友情提示: 你也可以直接使用提供的已训练好的模型, 那么你就别运行这部分了 ---\n",
    "for i in range(config.total_num):\n",
    "    net = deep_simulate('sin_{}'.format(i)).to(device)\n",
    "    opt = optim.Adam(net.parameters(), lr=config.lr, amsgrad=True)\n",
    "    for epoch in range(1, config.epochs + 1):\n",
    "        avg_loss, avg_loss_grad = 0.0, 0.0\n",
    "        for idx, (x, y) in enumerate(train_loader):\n",
    "            x, y = x.to(device), y.to(device)\n",
    "            y_pred = net(x)\n",
    "            opt.zero_grad()\n",
    "            loss = criterion(y_pred, y)\n",
    "            if epoch > config.change_epoch:\n",
    "                loss_ls, avg_loss = loss.item(), avg_loss + loss.item()\n",
    "                grads = autograd.grad(loss, net.parameters(), create_graph=True)\n",
    "                loss = sum([grd.norm() ** 2 for grd in grads])\n",
    "                loss_grad, avg_loss_grad = loss.item(), avg_loss_grad + loss.item()\n",
    "            # we only evaluate minimal_ratio once\n",
    "            if epoch == config.epochs and idx == len(train_loader) - 1:\n",
    "                ratio = minimal_ratio(grads, net)\n",
    "            loss.backward()\n",
    "            opt.step()\n",
    "        if epoch > config.change_epoch:\n",
    "            print('epoch (after change): {}, avg_loss: {}, avg_grad: {}'.format(epoch, loss_ls, loss_grad))\n",
    "        else:\n",
    "            print('epoch (before change): {}, loss: {}'.format(epoch, loss))\n",
    "    log = {\n",
    "        'num': i,\n",
    "        'avg_loss': avg_loss / (config.epochs - config.change_epochs),\n",
    "        'avg_loss_grad': avg_loss_grad / (config.epochs - config.change_epochs),\n",
    "        'loss': loss_ls,\n",
    "        'loss_grad': loss_grad,\n",
    "        'grad_norm': eval_gradnorm(net.parameters()),\n",
    "        'min_ratio': ratio\n",
    "    }\n",
    "    print(log)\n",
    "    logger.add_entry(log)\n",
    "torch.save(logger, config.save_dir + '/minimum_ratio.pth.tar')"
   ]
  },
  {
   "cell_type": "code",
   "execution_count": 5,
   "metadata": {},
   "outputs": [
    {
     "data": {
      "image/png": "[encoded data removed]",
      "text/plain": [
       "<Figure size 864x360 with 2 Axes>"
      ]
     },
     "metadata": {},
     "output_type": "display_data"
    }
   ],
   "source": [
    "# 可视化结果\n",
    "f, (ax1, ax2) = plt.subplots(1, 2, figsize=(12, 5))\n",
    "ax1.set_title('loss - minimum_loss')\n",
    "ax2.set_title('loss - grad_norm')\n",
    "logger = torch.load(config.save_dir + '/minimum_ratio.pth.tar')\n",
    "loss = [entry['loss'] for _, entry in logger.entries.items()]\n",
    "ratio = [entry['min_ratio'] for _, entry in logger.entries.items()]\n",
    "grad_norm = [entry['grad_norm'] for _, entry in logger.entries.items()]\n",
    "ax1.scatter(ratio, loss, c='b', label='ratio-loss')\n",
    "ax1.legend(loc=\"best\")\n",
    "ax1.set_xlabel('minimum_ratio')\n",
    "ax1.set_ylabel('loss')\n",
    "ax2.scatter(grad_norm, loss, c='r', label='gnorm-loss')\n",
    "ax2.legend(loc=\"best\")\n",
    "ax2.set_xlabel('grad norm')\n",
    "ax2.set_ylabel('loss')\n",
    "plt.tight_layout()\n",
    "plt.show()"
   ]
  },
  {
   "cell_type": "markdown",
   "metadata": {},
   "source": [
    "### 结果分析\n",
    "\n",
    "1. 说实话我并没看出什么规律来，整体而言loss都非常非常低了，而此时的minimum_ratio大致分布在0.3~0.42之间\n",
    "2. 大部分模型都处于grad norm比较小的地方"
   ]
  }
 ],
 "metadata": {
  "kernelspec": {
   "display_name": "Python 3",
   "language": "python",
   "name": "python3"
  },
  "language_info": {
   "codemirror_mode": {
    "name": "ipython",
    "version": 3
   },
   "file_extension": ".py",
   "mimetype": "text/x-python",
   "name": "python",
   "nbconvert_exporter": "python",
   "pygments_lexer": "ipython3",
   "version": "3.6.5"
  }
 },
 "nbformat": 4,
 "nbformat_minor": 2
}
